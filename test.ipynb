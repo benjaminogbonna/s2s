{
 "cells": [
  {
   "cell_type": "code",
   "execution_count": 2,
   "id": "a27e1e8e-d399-40a2-9124-3ebcdc9a05f5",
   "metadata": {},
   "outputs": [
    {
     "name": "stdout",
     "output_type": "stream",
     "text": [
      "hello world.\n"
     ]
    }
   ],
   "source": [
    "print('hello world.')"
   ]
  },
  {
   "cell_type": "code",
   "execution_count": 3,
   "id": "88ad7d7e-1c17-4d1e-a783-3dbb64ccde5c",
   "metadata": {},
   "outputs": [
    {
     "data": {
      "text/plain": [
       "4"
      ]
     },
     "execution_count": 3,
     "metadata": {},
     "output_type": "execute_result"
    }
   ],
   "source": [
    "2+2"
   ]
  },
  {
   "cell_type": "code",
   "execution_count": null,
   "id": "368745e3-9188-4089-9472-0e2829a1a1a1",
   "metadata": {},
   "outputs": [],
   "source": []
  },
  {
   "cell_type": "code",
   "execution_count": null,
   "id": "340c46ae-293a-4975-b0ab-42842a636e80",
   "metadata": {},
   "outputs": [],
   "source": []
  }
 ],
 "metadata": {
  "kernelspec": {
   "display_name": ".s2s_chatbot",
   "language": "python",
   "name": ".s2s_chatbot"
  },
  "language_info": {
   "codemirror_mode": {
    "name": "ipython",
    "version": 3
   },
   "file_extension": ".py",
   "mimetype": "text/x-python",
   "name": "python",
   "nbconvert_exporter": "python",
   "pygments_lexer": "ipython3",
   "version": "3.10.5"
  }
 },
 "nbformat": 4,
 "nbformat_minor": 5
}
